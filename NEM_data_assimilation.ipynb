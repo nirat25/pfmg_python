{
 "cells": [
  {
   "cell_type": "code",
   "execution_count": 1,
   "metadata": {
    "collapsed": true
   },
   "outputs": [],
   "source": [
    "import pandas as pd\n",
    "import numpy as np\n",
    "import os\n",
    "import xlrd\n",
    "import xlwt\n",
    "import openpyxl"
   ]
  },
  {
   "cell_type": "code",
   "execution_count": 25,
   "metadata": {
    "collapsed": false
   },
   "outputs": [
    {
     "name": "stdout",
     "output_type": "stream",
     "text": [
      "D:\\PFMG\\Temp\\All MS schools\\Final\n"
     ]
    }
   ],
   "source": [
    "os.chdir('D:\\PFMG\\Temp\\All MS schools\\Final')\n",
    "print os.getcwd()"
   ]
  },
  {
   "cell_type": "code",
   "execution_count": 28,
   "metadata": {
    "collapsed": false
   },
   "outputs": [],
   "source": [
    "wb = openpyxl.Workbook()\n",
    "ws = wb.active\n",
    "ws.title = 'MS_Data'\n",
    "alpha = ['X','Y','Z','AA','AB','AC','AD','AE','AF','AG','AH','AI']\n",
    "\n",
    "for (dirname, dirs, files) in os.walk('.'):\n",
    "    for i,filename in enumerate(files):\n",
    "        wb_inuse = openpyxl.load_workbook(filename, data_only=True)\n",
    "        ubill = wb_inuse.get_sheet_by_name('Utility Bill')\n",
    "        inputs = wb_inuse.get_sheet_by_name('Inputs')\n",
    "        #rint ubill['X23'].internal_value\n",
    "        demand_values = []\n",
    "        energy_values = []\n",
    "        for n in alpha:\n",
    "            demand_values.append(ubill[n+'23'].internal_value)\n",
    "            energy_values.append(ubill[n+'18'].internal_value)\n",
    "        safe_energy_values = [0 if x is None else x for x in energy_values]\n",
    "        peak_demand = max(demand_values)\n",
    "        annual_kwh = sum(safe_energy_values)\n",
    "        #utility = inputs['C4'].internal_value\n",
    "        \n",
    "        project = inputs['C5'].value\n",
    "        site = inputs['C6'].value\n",
    "        #cell0 = 'B'+str(i+1)\n",
    "        cell1 = 'C'+str(i+2)\n",
    "        cell2 = 'D'+str(i+2)\n",
    "        cell3 = 'E'+str(i+2)\n",
    "        cell4 = 'F'+str(i+2)\n",
    "        #ws[cell0] = utility\n",
    "        ws[cell1] = project\n",
    "        ws[cell2] = site\n",
    "        ws[cell3] = annual_kwh\n",
    "        ws[cell4] = peak_demand\n",
    "        \n",
    "wb.save(filename = 'All_MS_sites_data.xlsx')\n",
    "        "
   ]
  },
  {
   "cell_type": "code",
   "execution_count": null,
   "metadata": {
    "collapsed": false
   },
   "outputs": [],
   "source": []
  },
  {
   "cell_type": "code",
   "execution_count": null,
   "metadata": {
    "collapsed": true
   },
   "outputs": [],
   "source": []
  }
 ],
 "metadata": {
  "kernelspec": {
   "display_name": "Python 2",
   "language": "python",
   "name": "python2"
  },
  "language_info": {
   "codemirror_mode": {
    "name": "ipython",
    "version": 2
   },
   "file_extension": ".py",
   "mimetype": "text/x-python",
   "name": "python",
   "nbconvert_exporter": "python",
   "pygments_lexer": "ipython2",
   "version": "2.7.11"
  }
 },
 "nbformat": 4,
 "nbformat_minor": 0
}
