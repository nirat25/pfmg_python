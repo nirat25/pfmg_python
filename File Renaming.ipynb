{
 "cells": [
  {
   "cell_type": "code",
   "execution_count": 1,
   "metadata": {
    "collapsed": true
   },
   "outputs": [],
   "source": [
    "import pandas as pd\n",
    "import numpy as np\n",
    "import os\n",
    "import openpyxl"
   ]
  },
  {
   "cell_type": "code",
   "execution_count": 2,
   "metadata": {
    "collapsed": false
   },
   "outputs": [
    {
     "name": "stdout",
     "output_type": "stream",
     "text": [
      "D:\\PFMG\\pythonfiles\n"
     ]
    }
   ],
   "source": [
    "print os.getcwd()"
   ]
  },
  {
   "cell_type": "code",
   "execution_count": 3,
   "metadata": {
    "collapsed": false
   },
   "outputs": [
    {
     "name": "stdout",
     "output_type": "stream",
     "text": [
      "D:\\PFMG\\PVSyst Workspace for projects\\San bernardino City USD\\PVsyst6_Data\\UserData\n"
     ]
    }
   ],
   "source": [
    "os.chdir('D:\\PFMG\\PVSyst Workspace for projects\\San bernardino City USD\\PVsyst6_Data\\UserData')\n",
    "print os.getcwd()"
   ]
  },
  {
   "cell_type": "code",
   "execution_count": 12,
   "metadata": {
    "collapsed": false
   },
   "outputs": [
    {
     "name": "stdout",
     "output_type": "stream",
     "text": [
      "['70', 'Arroyo Valley HS_A-M,O_CP_a180_t7_788.67 kWdc_Rialto Prospector_np_2016-05-23.CSV']\n",
      "['70', 'Arroyo Valley HS_N_CP_a270_t7_105.57 kWdc_Rialto Prospector_np_2016-05-23.CSV']\n",
      "['70', 'Barton ES_A_CP_a270_t7_124.2 kWdc_San manuel Prospector_np_2016-05-23.CSV']\n",
      "['70', 'Cajon HS_A-K_CP_a270_t7_981.18 kWdc_Rialto Prospector_np_2016-05-23.CSV']\n",
      "['70', 'Chavez MS_A_CP_a208_t7_260.82 kWdc_Rialto Prospector_np_2016-05-23.CSV']\n",
      "['70', 'Curtis MS_A-B_CP_a180_t7_248.4 kWdc_San Manuel prospector_np_2016-05-23.CSV']\n",
      "['70', 'Del Vallejo MS_A-B_CP_a180_t7_217.35 kWdc_San manuel prospector_np_2016-05-23.CSV']\n",
      "['70', 'Indian Springs HS_A-J_CP_a180_t7_571.32 kWdc_San Manuel Prospector_np_2016-05-23.CSV']\n",
      "['70', 'Middle College HS_A-B_CP_a180_t7_111.78 kWdc_215 prospector_np_2016-05-23.CSV']\n",
      "['70', 'Middle College HS_C_CP_a270_t7_24.84 kWdc_215 prospector_np_2016-05-23.CSV']\n",
      "['70', 'Pacific HS_A,C-D_CP_a180_t7_453.33 kWdc_San Manuel prospector_np_2016-05-23.CSV']\n",
      "['70', 'Pacific HS_B_CP_a270_t7_55.89 kWdc_San Manuel prospector_np_2016-05-23.CSV']\n",
      "['70', 'San Andreas HS_A-C_CP_a180_t7_267.03 kWdc_San Manuel Prospector_np_2016-05-23.CSV']\n",
      "['70', 'San Bernardino HS_A-C,I_CP_a180_t7_260.82 kWdc_San Manuel Prospector_np_2016-05-23.CSV']\n",
      "['70', 'San Bernardino HS_D-H,J_CP_a270_t7_391.23 kWdc_San Manuel Prospector_np_2016-05-23.CSV']\n",
      "['70', 'San Gorgonio HS Opt 2_A-E_CP_a270_t7_521.64 kWdc_San Manuel Prospector_np_2016-05-23.CSV']\n",
      "['70', 'San Gorgonio HS TOU8_A-H_CP_a270_t7_869.4 kWdc_San Manuel Prospector_np_2016-05-23.CSV']\n",
      "['70', 'Sierra HS_A_CP_a180_t7_149.04 kWdc_San manuel prospector_np_2016-05-23.CSV']\n",
      "['70', 'Sierra HS_B_CP_a270_t7_43.47 kWdc_San manuel prospector_np_2016-05-23.CSV']\n",
      "['Components.xls']\n",
      "['Thumbs.db']\n"
     ]
    }
   ],
   "source": [
    "project_name = 'SBCSD-'\n",
    "for (dirname, dirs, files) in os.walk('.'):\n",
    "    for filename in files:\n",
    "        old_name = filename\n",
    "        filename_pieces = filename.split(\"_\",1)\n",
    "        print filename_pieces\n",
    "        if filename_pieces[0] == '70':\n",
    "            filename_pieces.insert(1,project_name)\n",
    "        int_filename = \"_\".join(filename_pieces)\n",
    "        new_filename = int_filename[:9] + int_filename[10:]\n",
    "        os.rename(old_name, new_filename)\n",
    "            "
   ]
  },
  {
   "cell_type": "code",
   "execution_count": 33,
   "metadata": {
    "collapsed": true
   },
   "outputs": [],
   "source": [
    "os.chdir('D:\\PFMG\\PVSyst Report FIles\\Tustin USD\\8760')"
   ]
  },
  {
   "cell_type": "code",
   "execution_count": 34,
   "metadata": {
    "collapsed": false
   },
   "outputs": [],
   "source": [
    "project_name = 'TustUSD-'\n",
    "for (dirname, dirs, files) in os.walk('.'): #walk recursively in the current working directory\n",
    "    for filename in files:\n",
    "        old_name = filename                       #Save the filename for using in the rename function\n",
    "        filename_pieces = filename.split(\"_\",1)   #Split the filename only on the first underscore\n",
    "        #print filename_pieces  #Checkpoint \n",
    "        if filename_pieces[0] == '50':            #Match the project number       \n",
    "            filename_pieces.insert(1,project_name) #Insert the missing piece of the filename in the right position in list\n",
    "        int_filename = \"_\".join(filename_pieces)   #Join using '_' the split filename list into one whole filename string \n",
    "        new_filename = int_filename[:11] + int_filename[12:] #slicing to remove extra underscore \n",
    "        #print new_filename   #checkpoint\n",
    "        os.rename(old_name, new_filename)\n",
    "            "
   ]
  },
  {
   "cell_type": "code",
   "execution_count": null,
   "metadata": {
    "collapsed": true
   },
   "outputs": [],
   "source": []
  }
 ],
 "metadata": {
  "kernelspec": {
   "display_name": "Python 2",
   "language": "python",
   "name": "python2"
  },
  "language_info": {
   "codemirror_mode": {
    "name": "ipython",
    "version": 2
   },
   "file_extension": ".py",
   "mimetype": "text/x-python",
   "name": "python",
   "nbconvert_exporter": "python",
   "pygments_lexer": "ipython2",
   "version": "2.7.11"
  }
 },
 "nbformat": 4,
 "nbformat_minor": 0
}
